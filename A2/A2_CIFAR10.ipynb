{
  "nbformat": 4,
  "nbformat_minor": 0,
  "metadata": {
    "colab": {
      "name": "A2_CIFAR10.ipynb",
      "provenance": [],
      "collapsed_sections": []
    },
    "kernelspec": {
      "name": "python3",
      "display_name": "Python 3"
    },
    "language_info": {
      "name": "python"
    }
  },
  "cells": [
    {
      "cell_type": "markdown",
      "metadata": {
        "id": "zh8CHE9vdpym"
      },
      "source": [
        "### Importing Necessary Libraries and Functions"
      ]
    },
    {
      "cell_type": "code",
      "metadata": {
        "id": "20Vdcopw7sJq"
      },
      "source": [
        "import torch\n",
        "import torch.nn as nn\n",
        "import torch.nn.functional as F\n",
        "import torchvision\n",
        "import torchvision.transforms as transforms\n",
        "\n",
        "\n",
        "import numpy as np\n",
        "import matplotlib.pyplot as plt"
      ],
      "execution_count": 1,
      "outputs": []
    },
    {
      "cell_type": "markdown",
      "metadata": {
        "id": "INoyJaGEdv2N"
      },
      "source": [
        "### Device selection if availabe GPU else CPU"
      ]
    },
    {
      "cell_type": "code",
      "metadata": {
        "id": "WezraIeC8PNn",
        "colab": {
          "base_uri": "https://localhost:8080/"
        },
        "outputId": "c9dcc7b2-403a-4fae-a08d-8ff314df1095"
      },
      "source": [
        "if torch.cuda.is_available():\n",
        "  device = torch.device(\"cuda\")\n",
        "  print('GPU selected for computations')\n",
        "else:\n",
        "  device = torch.device(\"cpu\")\n",
        "  print('CPU selected for computations')"
      ],
      "execution_count": 2,
      "outputs": [
        {
          "output_type": "stream",
          "name": "stdout",
          "text": [
            "CPU selected for computations\n"
          ]
        }
      ]
    },
    {
      "cell_type": "markdown",
      "metadata": {
        "id": "HmlT-pxCd0mi"
      },
      "source": [
        "### CIFAR-10 Dateset Loading and DataLoader Creatiion with batchsize=500"
      ]
    },
    {
      "cell_type": "code",
      "metadata": {
        "colab": {
          "base_uri": "https://localhost:8080/"
        },
        "id": "QMNm4eb8heHS",
        "outputId": "434f7697-346d-4aae-8bd6-9a429157a405"
      },
      "source": [
        "transform = transforms.Compose([transforms.ToTensor()])\n",
        "batch_size = 500\n",
        "trainset = torchvision.datasets.CIFAR10(root='./data', train=True, download=True, transform=transform)\n",
        "trainloader = torch.utils.data.DataLoader(trainset, batch_size=batch_size, shuffle=True, num_workers=2)\n",
        "\n",
        "testset = torchvision.datasets.CIFAR10(root='./data', train=False, download=True, transform=transform)\n",
        "testloader = torch.utils.data.DataLoader(testset, batch_size=batch_size, shuffle=False, num_workers=2)\n",
        "\n",
        "classes = ('plane', 'car', 'bird', 'cat','deer', 'dog', 'frog', 'horse', 'ship', 'truck')"
      ],
      "execution_count": 3,
      "outputs": [
        {
          "output_type": "stream",
          "name": "stdout",
          "text": [
            "Files already downloaded and verified\n",
            "Files already downloaded and verified\n"
          ]
        }
      ]
    },
    {
      "cell_type": "code",
      "metadata": {
        "id": "DPdu_Hkz3vkS"
      },
      "source": [
        "classes = 10\n",
        "lr = 0.001"
      ],
      "execution_count": 4,
      "outputs": []
    },
    {
      "cell_type": "markdown",
      "metadata": {
        "id": "t7cexdvPd_NI"
      },
      "source": [
        "### Network for CIFAR10 with following Architechture\n",
        "The Network architecture is changed with permisssion from **TA Mr.Debanjan**. This is done as to improve the testing accuracy of the model. *Baseline requirement of one extra Conv,ReLU,MaxPool are satisfied.*\n",
        "Highest Testing Accuracy of **76** is acheievd with this network when trained for 20 epochs. Changes were made in accordance to the size of the image.\n",
        "\n",
        "\n",
        "---\n",
        "\n",
        "\n",
        "- Conv2D 5x5 32\n",
        "- ReLU\n",
        "- BatchNorm2D\n",
        "\n",
        "- Conv2D 3x3 32\n",
        "- ReLU\n",
        "- BatchNorm2D\n",
        "\n",
        "- Conv2D 3x3 32\n",
        "- ReLU\n",
        "- BatchNorm2D\n",
        "\n",
        "- MaxPool2D 32\n",
        "\n",
        "- Conv2D 5x5 64\n",
        "- ReLU\n",
        "- BatchNorm2D\n",
        "\n",
        "- Conv2D 3x3 64\n",
        "- ReLU\n",
        "- BatchNorm2D\n",
        "\n",
        "- Conv2D 3x3 64\n",
        "- ReLU\n",
        "- BatchNorm2D\n",
        "\n",
        "- Flatten\n",
        "\n",
        "- Linear 256\n",
        "\n",
        "- Linear 128\n",
        "\n",
        "- Linear 10 \n",
        "\n"
      ]
    },
    {
      "cell_type": "code",
      "metadata": {
        "id": "6auXn_-C4Ylx"
      },
      "source": [
        "class CIFAR10NET(nn.Module):\n",
        "    def __init__(self):\n",
        "        super(CIFAR10NET, self).__init__()\n",
        "\n",
        "        self.block1 = nn.Sequential(\n",
        "            nn.Conv2d(in_channels=3, out_channels=32, kernel_size=5, stride=1),\n",
        "            nn.ReLU(),\n",
        "            nn.BatchNorm2d(num_features=32),\n",
        "            nn.Conv2d(in_channels=32, out_channels=32, kernel_size=3, stride=1),\n",
        "            nn.ReLU(),\n",
        "            nn.BatchNorm2d(num_features=32),\n",
        "            nn.Conv2d(in_channels=32, out_channels=32, kernel_size=3, stride=1),\n",
        "            nn.ReLU(),\n",
        "            nn.BatchNorm2d(num_features=32),\n",
        "            nn.MaxPool2d(kernel_size=2,stride=2)\n",
        "        )\n",
        "        self.block2 = nn.Sequential(\n",
        "            nn.Conv2d(in_channels=32, out_channels=64, kernel_size=5, stride=1),\n",
        "            nn.ReLU(),\n",
        "            nn.BatchNorm2d(num_features=64),\n",
        "            nn.Conv2d(in_channels=64, out_channels=64, kernel_size=3, stride=1),\n",
        "            nn.ReLU(),\n",
        "            nn.BatchNorm2d(num_features=64),\n",
        "            nn.Conv2d(in_channels=64, out_channels=64, kernel_size=3, stride=1),\n",
        "            nn.ReLU(),\n",
        "            nn.BatchNorm2d(num_features=64)\n",
        "            #nn.MaxPool2d(kernel_size=2,stride=2)\n",
        "        )\n",
        "        \n",
        "        self.flatten = nn.Flatten()\n",
        "        self.fc1 = nn.Linear(4*4*64,512)\n",
        "        self.fc2 = nn.Linear(512,128)\n",
        "        self.fc3 = nn.Linear(128,10)\n",
        "        \n",
        "\n",
        "    def forward(self,x):\n",
        "        x = self.block1(x)\n",
        "        x = self.block2(x)\n",
        "        x = self.flatten(x)\n",
        "        x = self.fc1(x)\n",
        "        x = self.fc2(x)\n",
        "        x = self.fc3(x)\n",
        "        return x"
      ],
      "execution_count": 5,
      "outputs": []
    },
    {
      "cell_type": "code",
      "metadata": {
        "colab": {
          "base_uri": "https://localhost:8080/"
        },
        "id": "apYsYkyRO_18",
        "outputId": "978e6c93-1624-4d3d-fe52-2486a6761841"
      },
      "source": [
        "model = CIFAR10NET().to(device)\n",
        "print(model)"
      ],
      "execution_count": 6,
      "outputs": [
        {
          "output_type": "stream",
          "name": "stdout",
          "text": [
            "CIFAR10NET(\n",
            "  (block1): Sequential(\n",
            "    (0): Conv2d(3, 32, kernel_size=(5, 5), stride=(1, 1))\n",
            "    (1): ReLU()\n",
            "    (2): BatchNorm2d(32, eps=1e-05, momentum=0.1, affine=True, track_running_stats=True)\n",
            "    (3): Conv2d(32, 32, kernel_size=(3, 3), stride=(1, 1))\n",
            "    (4): ReLU()\n",
            "    (5): BatchNorm2d(32, eps=1e-05, momentum=0.1, affine=True, track_running_stats=True)\n",
            "    (6): Conv2d(32, 32, kernel_size=(3, 3), stride=(1, 1))\n",
            "    (7): ReLU()\n",
            "    (8): BatchNorm2d(32, eps=1e-05, momentum=0.1, affine=True, track_running_stats=True)\n",
            "    (9): MaxPool2d(kernel_size=2, stride=2, padding=0, dilation=1, ceil_mode=False)\n",
            "  )\n",
            "  (block2): Sequential(\n",
            "    (0): Conv2d(32, 64, kernel_size=(5, 5), stride=(1, 1))\n",
            "    (1): ReLU()\n",
            "    (2): BatchNorm2d(64, eps=1e-05, momentum=0.1, affine=True, track_running_stats=True)\n",
            "    (3): Conv2d(64, 64, kernel_size=(3, 3), stride=(1, 1))\n",
            "    (4): ReLU()\n",
            "    (5): BatchNorm2d(64, eps=1e-05, momentum=0.1, affine=True, track_running_stats=True)\n",
            "    (6): Conv2d(64, 64, kernel_size=(3, 3), stride=(1, 1))\n",
            "    (7): ReLU()\n",
            "    (8): BatchNorm2d(64, eps=1e-05, momentum=0.1, affine=True, track_running_stats=True)\n",
            "  )\n",
            "  (flatten): Flatten(start_dim=1, end_dim=-1)\n",
            "  (fc1): Linear(in_features=1024, out_features=512, bias=True)\n",
            "  (fc2): Linear(in_features=512, out_features=128, bias=True)\n",
            "  (fc3): Linear(in_features=128, out_features=10, bias=True)\n",
            ")\n"
          ]
        }
      ]
    },
    {
      "cell_type": "markdown",
      "metadata": {
        "id": "yTW0EbhQAnFb"
      },
      "source": [
        "### Defining Loss function and Optimizer"
      ]
    },
    {
      "cell_type": "code",
      "metadata": {
        "id": "rxiVMIOMPKcC"
      },
      "source": [
        "criterion = nn.CrossEntropyLoss()\n",
        "optimizer = torch.optim.Adam(model.parameters(),lr=lr)"
      ],
      "execution_count": 7,
      "outputs": []
    },
    {
      "cell_type": "markdown",
      "metadata": {
        "id": "A93xMKotAr-R"
      },
      "source": [
        "### Training Loop"
      ]
    },
    {
      "cell_type": "code",
      "metadata": {
        "id": "gHn72f9MPxS-",
        "colab": {
          "base_uri": "https://localhost:8080/"
        },
        "outputId": "1ca4368d-519e-454f-e702-5f85be4ac5ae"
      },
      "source": [
        "epochs = 40\n",
        "loss_list =[]\n",
        "acc_list =[]\n",
        "for epoch in range(epochs):\n",
        "    total_correct = 0\n",
        "    total_loss = 0 \n",
        "    for images,labels in iter(trainloader):\n",
        "        images = images.to(device)\n",
        "        labels = labels.to(device)\n",
        "\n",
        "        preds = model(images)\n",
        "        loss = criterion(preds,labels)\n",
        "\n",
        "        optimizer.zero_grad()\n",
        "        loss.backward()\n",
        "        optimizer.step()\n",
        "\n",
        "        total_correct += preds.argmax(dim=1).eq(labels).sum().item()\n",
        "        total_loss += loss.item()\n",
        "    loss_list.append(total_loss/batch_size)\n",
        "    acc_list.append(total_correct/500)\n",
        "    print(\"Epoch [%d/%d] Total Correct [%d/50000] Total loss : %.4f\"%(epoch+1,epochs,total_correct,total_loss))"
      ],
      "execution_count": 8,
      "outputs": [
        {
          "metadata": {
            "tags": null
          },
          "name": "stderr",
          "output_type": "stream",
          "text": [
            "/usr/local/lib/python3.7/dist-packages/torch/nn/functional.py:718: UserWarning: Named tensors and all their associated APIs are an experimental feature and subject to change. Please do not use them for anything important until they are released as stable. (Triggered internally at  /pytorch/c10/core/TensorImpl.h:1156.)\n",
            "  return torch.max_pool2d(input, kernel_size, stride, padding, dilation, ceil_mode)\n"
          ]
        },
        {
          "output_type": "stream",
          "name": "stdout",
          "text": [
            "Epoch [1/40] Total Correct [24492/50000] Total loss : 139.6543\n",
            "Epoch [2/40] Total Correct [32113/50000] Total loss : 100.3802\n",
            "Epoch [3/40] Total Correct [35328/50000] Total loss : 83.6240\n",
            "Epoch [4/40] Total Correct [37463/50000] Total loss : 71.5260\n",
            "Epoch [5/40] Total Correct [38731/50000] Total loss : 63.8104\n",
            "Epoch [6/40] Total Correct [40120/50000] Total loss : 56.3710\n",
            "Epoch [7/40] Total Correct [41049/50000] Total loss : 50.9003\n",
            "Epoch [8/40] Total Correct [41947/50000] Total loss : 45.2419\n",
            "Epoch [9/40] Total Correct [42873/50000] Total loss : 40.0951\n",
            "Epoch [10/40] Total Correct [43643/50000] Total loss : 35.3525\n",
            "Epoch [11/40] Total Correct [44529/50000] Total loss : 30.5856\n",
            "Epoch [12/40] Total Correct [45022/50000] Total loss : 27.5415\n",
            "Epoch [13/40] Total Correct [45703/50000] Total loss : 24.0378\n",
            "Epoch [14/40] Total Correct [46099/50000] Total loss : 21.6797\n",
            "Epoch [15/40] Total Correct [46510/50000] Total loss : 19.3151\n",
            "Epoch [16/40] Total Correct [46967/50000] Total loss : 16.7741\n",
            "Epoch [17/40] Total Correct [47263/50000] Total loss : 15.3254\n",
            "Epoch [18/40] Total Correct [47429/50000] Total loss : 14.1735\n",
            "Epoch [19/40] Total Correct [47746/50000] Total loss : 12.6561\n",
            "Epoch [20/40] Total Correct [47958/50000] Total loss : 11.4379\n",
            "Epoch [21/40] Total Correct [48047/50000] Total loss : 10.7423\n",
            "Epoch [22/40] Total Correct [48107/50000] Total loss : 10.6516\n",
            "Epoch [23/40] Total Correct [48324/50000] Total loss : 9.3974\n",
            "Epoch [24/40] Total Correct [48560/50000] Total loss : 8.3258\n",
            "Epoch [25/40] Total Correct [48205/50000] Total loss : 9.9867\n",
            "Epoch [26/40] Total Correct [48613/50000] Total loss : 7.9363\n",
            "Epoch [27/40] Total Correct [48921/50000] Total loss : 5.9594\n",
            "Epoch [28/40] Total Correct [48584/50000] Total loss : 7.9163\n",
            "Epoch [29/40] Total Correct [48609/50000] Total loss : 8.0129\n",
            "Epoch [30/40] Total Correct [48832/50000] Total loss : 6.6901\n",
            "Epoch [31/40] Total Correct [48966/50000] Total loss : 5.6657\n",
            "Epoch [32/40] Total Correct [48791/50000] Total loss : 6.9124\n",
            "Epoch [33/40] Total Correct [48579/50000] Total loss : 8.1661\n",
            "Epoch [34/40] Total Correct [49056/50000] Total loss : 5.2912\n",
            "Epoch [35/40] Total Correct [49211/50000] Total loss : 4.4432\n",
            "Epoch [36/40] Total Correct [48946/50000] Total loss : 5.9942\n",
            "Epoch [37/40] Total Correct [49017/50000] Total loss : 5.7035\n",
            "Epoch [38/40] Total Correct [48877/50000] Total loss : 6.4146\n",
            "Epoch [39/40] Total Correct [48985/50000] Total loss : 6.0233\n",
            "Epoch [40/40] Total Correct [49304/50000] Total loss : 4.0618\n"
          ]
        }
      ]
    },
    {
      "cell_type": "code",
      "metadata": {
        "colab": {
          "base_uri": "https://localhost:8080/",
          "height": 295
        },
        "id": "Yrtx5mQgfIC2",
        "outputId": "da8bcb15-8519-482d-83ef-c7f6e61cd0d3"
      },
      "source": [
        "plt.subplot(1,2,1)\n",
        "plt.plot(range(1,epochs+1),loss_list,'r')\n",
        "plt.ylabel('Traing Loss')\n",
        "plt.xlabel('Epoch')\n",
        "plt.title('Training Loss')\n",
        "plt.subplot(1,2,2)\n",
        "plt.plot(range(1,epochs+1),acc_list,'g')\n",
        "plt.ylabel('Traing Accuracy')\n",
        "plt.xlabel('Epoch')\n",
        "plt.title('Training Accuracy ')\n",
        "#lt.show()\n",
        "plt.savefig('A2_CIFAR10_TRAIN.PNG')"
      ],
      "execution_count": 11,
      "outputs": [
        {
          "output_type": "display_data",
          "data": {
            "image/png": "[encoded data removed]",
            "text/plain": [
              "<Figure size 432x288 with 2 Axes>"
            ]
          },
          "metadata": {
            "needs_background": "light"
          }
        }
      ]
    },
    {
      "cell_type": "markdown",
      "metadata": {
        "id": "vuuCgY8hBDpL"
      },
      "source": [
        "### Testing "
      ]
    },
    {
      "cell_type": "code",
      "metadata": {
        "colab": {
          "base_uri": "https://localhost:8080/"
        },
        "id": "FeNkQm1GSZuy",
        "outputId": "d64a69e8-caa8-4d2d-9b11-839e64311462"
      },
      "source": [
        "model.eval()\n",
        "with torch.no_grad():\n",
        "    correct = 0\n",
        "    total = 0\n",
        "    for images, labels in testloader:\n",
        "        images = images.to(device)\n",
        "        labels = labels.to(device)\n",
        "        preds = model(images)\n",
        "        correct += preds.argmax(dim=1).eq(labels).sum().item()\n",
        "\n",
        "    print(\"Model accuracy on %d test images is : %.3f\"%(batch_size*len(testloader),100*correct/(batch_size*len(testloader))))\n"
      ],
      "execution_count": 10,
      "outputs": [
        {
          "output_type": "stream",
          "name": "stdout",
          "text": [
            "Model accuracy on 10000 test images is : 71.110\n"
          ]
        }
      ]
    },
    {
      "cell_type": "code",
      "metadata": {
        "id": "H1lWmvURZh-f"
      },
      "source": [
        ""
      ],
      "execution_count": null,
      "outputs": []
    }
  ]
}