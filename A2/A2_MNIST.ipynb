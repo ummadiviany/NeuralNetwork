{
  "nbformat": 4,
  "nbformat_minor": 0,
  "metadata": {
    "colab": {
      "name": "A2_MNIST.ipynb",
      "provenance": []
    },
    "kernelspec": {
      "display_name": "Python 3",
      "name": "python3"
    },
    "language_info": {
      "name": "python"
    }
  },
  "cells": [
    {
      "cell_type": "markdown",
      "metadata": {
        "id": "JEHJpILNJUpV"
      },
      "source": [
        "### Importing Necessary Libraries and Functions"
      ]
    },
    {
      "cell_type": "code",
      "metadata": {
        "id": "20Vdcopw7sJq"
      },
      "source": [
        "import torch\n",
        "import torch.nn as nn\n",
        "import torch.nn.functional as F\n",
        "import torchvision\n",
        "import torchvision.transforms as transforms\n",
        "\n",
        "\n",
        "import numpy as np\n",
        "import matplotlib.pyplot as plt"
      ],
      "execution_count": 46,
      "outputs": []
    },
    {
      "cell_type": "markdown",
      "metadata": {
        "id": "-k-K2-vMJ4Qy"
      },
      "source": [
        "### Device selection if availabe GPU else CPU"
      ]
    },
    {
      "cell_type": "code",
      "metadata": {
        "colab": {
          "base_uri": "https://localhost:8080/"
        },
        "id": "WezraIeC8PNn",
        "outputId": "5aec4cce-10d4-4ff7-a760-7a50505a35d8"
      },
      "source": [
        "if torch.cuda.is_available():\n",
        "  device = torch.device(\"cuda\")\n",
        "  print('GPU selected for computations')\n",
        "else:\n",
        "  device = torch.device(\"cpu\")\n",
        "  print('CPU selected for computations')"
      ],
      "execution_count": 47,
      "outputs": [
        {
          "output_type": "stream",
          "name": "stdout",
          "text": [
            "CPU selected for computations\n"
          ]
        }
      ]
    },
    {
      "cell_type": "markdown",
      "metadata": {
        "id": "s7PpWr5xJ_oU"
      },
      "source": [
        "### MNIST Dataset Loading"
      ]
    },
    {
      "cell_type": "code",
      "metadata": {
        "id": "B-cTttJi3UFw"
      },
      "source": [
        "train_set = torchvision.datasets.MNIST(root='data', train=True, download=True, transform=transforms.ToTensor())\n",
        "test_set = torchvision.datasets.MNIST(root='data', train=False, download=True, transform=transforms.ToTensor())"
      ],
      "execution_count": 48,
      "outputs": []
    },
    {
      "cell_type": "markdown",
      "metadata": {
        "id": "Aw23NVWuKFsA"
      },
      "source": [
        "### Creating DataLoader for TrainSet and TestSet with batch_size=500"
      ]
    },
    {
      "cell_type": "code",
      "metadata": {
        "id": "DPdu_Hkz3vkS"
      },
      "source": [
        "\n",
        "classes = 10\n",
        "batch_size = 500\n",
        "lr = 0.001\n",
        "train_loader = torch.utils.data.DataLoader(train_set,batch_size,shuffle=True)\n",
        "test_loader = torch.utils.data.DataLoader(test_set,batch_size,shuffle=False)\n"
      ],
      "execution_count": 49,
      "outputs": []
    },
    {
      "cell_type": "markdown",
      "metadata": {
        "id": "3CI7OQuMQ2_0"
      },
      "source": [
        "### ConvNet for MNIST with following Architechture\n",
        "- Conv2D 5x5 32\n",
        "- ReLU\n",
        "- BatchNorm2D\n",
        "\n",
        "- Conv2D 3x3 32\n",
        "- ReLU\n",
        "- BatchNorm2D\n",
        "\n",
        "- Conv2D 3x3 32\n",
        "- ReLU\n",
        "- BatchNorm2D\n",
        "\n",
        "- MaxPool2D 32\n",
        "\n",
        "- Conv2D 5x5 64\n",
        "- ReLU\n",
        "- BatchNorm2D\n",
        "\n",
        "- Conv2D 3x3 64\n",
        "- ReLU\n",
        "- BatchNorm2D\n",
        "\n",
        "- Conv2D 3x3 64\n",
        "- ReLU\n",
        "- BatchNorm2D\n",
        "\n",
        "- Flatten\n",
        "\n",
        "- Linear 256\n",
        "\n",
        "- Linear 128\n",
        "\n",
        "- Linear 10 \n",
        "\n"
      ]
    },
    {
      "cell_type": "code",
      "metadata": {
        "id": "6auXn_-C4Ylx"
      },
      "source": [
        "class ConvNet(nn.Module):\n",
        "    def __init__(self, classes=10):\n",
        "        super(ConvNet, self).__init__()\n",
        "\n",
        "        self.block1 = nn.Sequential(\n",
        "            nn.Conv2d(in_channels=1, out_channels=32, kernel_size=5, stride=1),\n",
        "            nn.ReLU(),\n",
        "            nn.BatchNorm2d(num_features=32),\n",
        "            nn.Conv2d(in_channels=32, out_channels=32, kernel_size=3, stride=1),\n",
        "            nn.ReLU(),\n",
        "            nn.BatchNorm2d(num_features=32),\n",
        "            nn.Conv2d(in_channels=32, out_channels=32, kernel_size=3, stride=1),\n",
        "            nn.ReLU(),\n",
        "            nn.BatchNorm2d(num_features=32),\n",
        "            nn.MaxPool2d(kernel_size=2,stride=2)\n",
        "        )\n",
        "        self.block2 = nn.Sequential(\n",
        "            nn.Conv2d(in_channels=32, out_channels=64, kernel_size=5, stride=1),\n",
        "            nn.ReLU(),\n",
        "            nn.BatchNorm2d(num_features=64),\n",
        "            nn.Conv2d(in_channels=64, out_channels=64, kernel_size=3, stride=1),\n",
        "            nn.ReLU(),\n",
        "            nn.BatchNorm2d(num_features=64),\n",
        "            nn.Conv2d(in_channels=64, out_channels=64, kernel_size=3, stride=1),\n",
        "            nn.ReLU(),\n",
        "            nn.BatchNorm2d(num_features=64)\n",
        "            #nn.MaxPool2d(kernel_size=2,stride=2)\n",
        "        )\n",
        "        \n",
        "        self.flatten = nn.Flatten()\n",
        "        self.fc1 = nn.Linear(2*2*64,128)\n",
        "        self.fc2 = nn.Linear(128,10)\n",
        "        \n",
        "\n",
        "    def forward(self,x):\n",
        "        x = self.block1(x)\n",
        "        x = self.block2(x)\n",
        "        x = self.flatten(x)\n",
        "        x = self.fc1(x)\n",
        "        x = self.fc2(x)\n",
        "        return x"
      ],
      "execution_count": 50,
      "outputs": []
    },
    {
      "cell_type": "code",
      "metadata": {
        "colab": {
          "base_uri": "https://localhost:8080/"
        },
        "id": "apYsYkyRO_18",
        "outputId": "02232b05-c771-4736-db90-89afe0fa840a"
      },
      "source": [
        "model = ConvNet(classes).to(device)\n",
        "print(model)"
      ],
      "execution_count": 51,
      "outputs": [
        {
          "output_type": "stream",
          "name": "stdout",
          "text": [
            "ConvNet(\n",
            "  (block1): Sequential(\n",
            "    (0): Conv2d(1, 32, kernel_size=(5, 5), stride=(1, 1))\n",
            "    (1): ReLU()\n",
            "    (2): BatchNorm2d(32, eps=1e-05, momentum=0.1, affine=True, track_running_stats=True)\n",
            "    (3): Conv2d(32, 32, kernel_size=(3, 3), stride=(1, 1))\n",
            "    (4): ReLU()\n",
            "    (5): BatchNorm2d(32, eps=1e-05, momentum=0.1, affine=True, track_running_stats=True)\n",
            "    (6): Conv2d(32, 32, kernel_size=(3, 3), stride=(1, 1))\n",
            "    (7): ReLU()\n",
            "    (8): BatchNorm2d(32, eps=1e-05, momentum=0.1, affine=True, track_running_stats=True)\n",
            "    (9): MaxPool2d(kernel_size=2, stride=2, padding=0, dilation=1, ceil_mode=False)\n",
            "  )\n",
            "  (block2): Sequential(\n",
            "    (0): Conv2d(32, 64, kernel_size=(5, 5), stride=(1, 1))\n",
            "    (1): ReLU()\n",
            "    (2): BatchNorm2d(64, eps=1e-05, momentum=0.1, affine=True, track_running_stats=True)\n",
            "    (3): Conv2d(64, 64, kernel_size=(3, 3), stride=(1, 1))\n",
            "    (4): ReLU()\n",
            "    (5): BatchNorm2d(64, eps=1e-05, momentum=0.1, affine=True, track_running_stats=True)\n",
            "    (6): Conv2d(64, 64, kernel_size=(3, 3), stride=(1, 1))\n",
            "    (7): ReLU()\n",
            "    (8): BatchNorm2d(64, eps=1e-05, momentum=0.1, affine=True, track_running_stats=True)\n",
            "  )\n",
            "  (flatten): Flatten(start_dim=1, end_dim=-1)\n",
            "  (fc1): Linear(in_features=256, out_features=128, bias=True)\n",
            "  (fc2): Linear(in_features=128, out_features=10, bias=True)\n",
            ")\n"
          ]
        }
      ]
    },
    {
      "cell_type": "markdown",
      "metadata": {
        "id": "csIrzdu1R7k_"
      },
      "source": [
        "### Defining Loss function and Optimizer"
      ]
    },
    {
      "cell_type": "code",
      "metadata": {
        "id": "rxiVMIOMPKcC"
      },
      "source": [
        "criterion = nn.CrossEntropyLoss()\n",
        "optimizer = torch.optim.Adam(model.parameters(),lr=lr)"
      ],
      "execution_count": 52,
      "outputs": []
    },
    {
      "cell_type": "markdown",
      "metadata": {
        "id": "aNkx_wuISEje"
      },
      "source": [
        "### Training Loop "
      ]
    },
    {
      "cell_type": "code",
      "metadata": {
        "colab": {
          "base_uri": "https://localhost:8080/"
        },
        "id": "gHn72f9MPxS-",
        "outputId": "d3c2cbde-808b-4d9c-c9f2-86eed846accf"
      },
      "source": [
        "loss_list =[]\n",
        "acc_list =[]\n",
        "epochs = 25\n",
        "for epoch in range(epochs):\n",
        "    total_correct = 0\n",
        "    total_loss = 0 \n",
        "    for images,labels in iter(train_loader):\n",
        "        images = images.to(device)\n",
        "        labels = labels.to(device)\n",
        "\n",
        "        preds = model(images)\n",
        "        loss = criterion(preds,labels)\n",
        "\n",
        "        optimizer.zero_grad()\n",
        "        loss.backward()\n",
        "        optimizer.step()\n",
        "\n",
        "        total_correct += preds.argmax(dim=1).eq(labels).sum().item()\n",
        "        total_loss += loss.item()\n",
        "    loss_list.append(total_loss/batch_size)\n",
        "    acc_list.append(total_correct/600)\n",
        "    print(\"Epoch [%d/%d] Total Correct [%d/60000] Total loss : %.4f\"%(epoch+1,epochs,total_correct,total_loss)) "
      ],
      "execution_count": 53,
      "outputs": [
        {
          "output_type": "stream",
          "name": "stdout",
          "text": [
            "Epoch [1/25] Total Correct [57244/60000] Total loss : 19.9223\n",
            "Epoch [2/25] Total Correct [59364/60000] Total loss : 4.1522\n",
            "Epoch [3/25] Total Correct [59554/60000] Total loss : 2.9567\n",
            "Epoch [4/25] Total Correct [59627/60000] Total loss : 2.2815\n",
            "Epoch [5/25] Total Correct [59667/60000] Total loss : 1.9741\n",
            "Epoch [6/25] Total Correct [59762/60000] Total loss : 1.5045\n",
            "Epoch [7/25] Total Correct [59806/60000] Total loss : 1.2666\n",
            "Epoch [8/25] Total Correct [59862/60000] Total loss : 0.8396\n",
            "Epoch [9/25] Total Correct [59799/60000] Total loss : 1.1993\n",
            "Epoch [10/25] Total Correct [59815/60000] Total loss : 1.0855\n",
            "Epoch [11/25] Total Correct [59903/60000] Total loss : 0.6282\n",
            "Epoch [12/25] Total Correct [59875/60000] Total loss : 0.8058\n",
            "Epoch [13/25] Total Correct [59877/60000] Total loss : 0.7562\n",
            "Epoch [14/25] Total Correct [59886/60000] Total loss : 0.6484\n",
            "Epoch [15/25] Total Correct [59884/60000] Total loss : 0.6819\n",
            "Epoch [16/25] Total Correct [59927/60000] Total loss : 0.4176\n",
            "Epoch [17/25] Total Correct [59906/60000] Total loss : 0.5272\n",
            "Epoch [18/25] Total Correct [59912/60000] Total loss : 0.4846\n",
            "Epoch [19/25] Total Correct [59919/60000] Total loss : 0.5425\n",
            "Epoch [20/25] Total Correct [59900/60000] Total loss : 0.6220\n",
            "Epoch [21/25] Total Correct [59884/60000] Total loss : 0.7089\n",
            "Epoch [22/25] Total Correct [59920/60000] Total loss : 0.4542\n",
            "Epoch [23/25] Total Correct [59946/60000] Total loss : 0.2913\n",
            "Epoch [24/25] Total Correct [59976/60000] Total loss : 0.1632\n",
            "Epoch [25/25] Total Correct [59949/60000] Total loss : 0.3353\n"
          ]
        }
      ]
    },
    {
      "cell_type": "code",
      "metadata": {
        "colab": {
          "base_uri": "https://localhost:8080/",
          "height": 295
        },
        "id": "KTlrOKayWWj4",
        "outputId": "d8de6a9d-33c7-4a78-c973-7a24e3ac992b"
      },
      "source": [
        "plt.subplot(1,2,1)\n",
        "plt.plot(range(1,epochs+1),loss_list,'r')\n",
        "plt.ylabel('Traing Loss')\n",
        "plt.xlabel('Epoch')\n",
        "plt.title('Training Loss')\n",
        "plt.subplot(1,2,2)\n",
        "plt.plot(range(1,epochs+1),acc_list,'g')\n",
        "plt.ylabel('Traing Accuracy')\n",
        "plt.xlabel('Epoch')\n",
        "plt.title('Training Accuracy ')\n",
        "#plt.show()\n",
        "plt.savefig('A2_MNIST_TRAIN.PNG')"
      ],
      "execution_count": 56,
      "outputs": [
        {
          "output_type": "display_data",
          "data": {
            "image/png": "[encoded data removed]",
            "text/plain": [
              "<Figure size 432x288 with 2 Axes>"
            ]
          },
          "metadata": {
            "needs_background": "light"
          }
        }
      ]
    },
    {
      "cell_type": "markdown",
      "metadata": {
        "id": "Kjedb4ajSN8n"
      },
      "source": [
        "### Testing"
      ]
    },
    {
      "cell_type": "code",
      "metadata": {
        "colab": {
          "base_uri": "https://localhost:8080/"
        },
        "id": "FeNkQm1GSZuy",
        "outputId": "b57a54b4-364f-49b7-d2b9-d537d4e17633"
      },
      "source": [
        "model.eval()\n",
        "with torch.no_grad():\n",
        "    correct = 0\n",
        "    total = 0\n",
        "    for images, labels in test_loader:\n",
        "        images = images.to(device)\n",
        "        labels = labels.to(device)\n",
        "        preds = model(images)\n",
        "        correct += preds.argmax(dim=1).eq(labels).sum().item()\n",
        "\n",
        "    print(\"Model accuracy on %d test images is : %.3f\"%(batch_size*len(test_loader),100*correct/(batch_size*len(test_loader))))\n"
      ],
      "execution_count": 55,
      "outputs": [
        {
          "output_type": "stream",
          "name": "stdout",
          "text": [
            "Model accuracy on 10000 test images is : 99.240\n"
          ]
        }
      ]
    },
    {
      "cell_type": "code",
      "metadata": {
        "id": "lfbxnJ9CT9P0"
      },
      "source": [
        ""
      ],
      "execution_count": null,
      "outputs": []
    },
    {
      "cell_type": "code",
      "metadata": {
        "id": "hYlgwNq8Uav0"
      },
      "source": [
        ""
      ],
      "execution_count": null,
      "outputs": []
    },
    {
      "cell_type": "code",
      "metadata": {
        "id": "S5aPfwBuU4R1"
      },
      "source": [
        ""
      ],
      "execution_count": null,
      "outputs": []
    },
    {
      "cell_type": "markdown",
      "metadata": {
        "id": "Aug11EJfWy5L"
      },
      "source": [
        ""
      ]
    },
    {
      "cell_type": "code",
      "metadata": {
        "id": "IHnAuY9GVVpI"
      },
      "source": [
        ""
      ],
      "execution_count": null,
      "outputs": []
    },
    {
      "cell_type": "code",
      "metadata": {
        "id": "17sayuo4VzBD"
      },
      "source": [
        ""
      ],
      "execution_count": null,
      "outputs": []
    },
    {
      "cell_type": "code",
      "metadata": {
        "id": "5NogMNx0WQbP"
      },
      "source": [
        ""
      ],
      "execution_count": null,
      "outputs": []
    }
  ]
}