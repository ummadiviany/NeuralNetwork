{
  "nbformat": 4,
  "nbformat_minor": 0,
  "metadata": {
    "colab": {
      "name": "Perceptron-T1.ipynb",
      "provenance": [],
      "collapsed_sections": []
    },
    "kernelspec": {
      "name": "python3",
      "display_name": "Python 3"
    },
    "language_info": {
      "name": "python"
    }
  },
  "cells": [
    {
      "cell_type": "markdown",
      "metadata": {
        "id": "96qSrBBFfvd0"
      },
      "source": [
        "# Necessary Imports"
      ]
    },
    {
      "cell_type": "code",
      "metadata": {
        "id": "LPJiEuDw8hyy"
      },
      "source": [
        "from numpy.random import random_sample\n",
        "from math import exp\n",
        "from sklearn.datasets import load_iris\n",
        "from sklearn.preprocessing import normalize\n",
        "from sklearn.model_selection import train_test_split\n",
        "import pandas as pd\n",
        "import matplotlib.pyplot as plt"
      ],
      "execution_count": null,
      "outputs": []
    },
    {
      "cell_type": "markdown",
      "metadata": {
        "id": "_piaG29Mf_j5"
      },
      "source": [
        "# Perceptron Class\n",
        "The Perceptron class has following methods:\n",
        "1. constructor method(*length_of_inputs, activation_function*)\n",
        "> Allowed activation functions - [*'step','sigmoid','tanh'*]\n",
        "2. weight_adjustment(*input_vector,error*)\n",
        "3. result(*input_vector*)\n",
        "4. recall(*input_vector*)"
      ]
    },
    {
      "cell_type": "code",
      "metadata": {
        "id": "blvUOjOzGIZa"
      },
      "source": [
        "class Perceptron(object):\n",
        "    def __init__(self,no_of_inputs,activation):\n",
        "        self.w = random_sample(no_of_inputs+1)\n",
        "        self.lr = 0.001\n",
        "        self.bias = float(1)\n",
        "        self.activation = activation\n",
        "\n",
        "\n",
        "    def weight_adjustument(self,inputs,error):\n",
        "        for x in range(len(inputs)):\n",
        "            self.w[x] += self.lr*inputs[x]*error\n",
        "\n",
        "        self.w[-1] += self.lr*self.bias*error\n",
        "\n",
        "    def result(self,inputs):\n",
        "        value=0\n",
        "        for x in range(len(inputs)):\n",
        "            value += self.w[x]*inputs[x]\n",
        "\n",
        "        value += self.w[-1]*self.bias\n",
        "\n",
        "        if self.activation == 'step':\n",
        "            if value >= 0 :                                                 # step/thresolding function   \n",
        "                return 1 \n",
        "            return 0   \n",
        "\n",
        "        elif self.activation == 'sigmoid':\n",
        "            return round(float(1/(1+exp(-value))))                         # sigmoid activation\n",
        "\n",
        "        elif self.activation == 'tanh':\n",
        "            tanh =  float((exp(value)-exp(-value)/(exp(value)+exp(-value))))    # with tanh activation function\n",
        "            if tanh > 0:\n",
        "                return 1\n",
        "            return 0                                                            # end of tanh\n",
        "\n",
        "\n",
        "        #return float(exp(value)/sum[exp(value)])                       # softmax activation\n",
        "        \n",
        "\n",
        "\n",
        "\n",
        "    def recall(self,inputs):\n",
        "        res = self.result(inputs)\n",
        "        if res > 0:\n",
        "            return 1\n",
        "        return 0\n",
        "        #return res\n",
        "\n",
        "    "
      ],
      "execution_count": null,
      "outputs": []
    },
    {
      "cell_type": "markdown",
      "metadata": {
        "id": "UT1jYeHGhuI8"
      },
      "source": [
        "# Dataset Preperation\n",
        "Please specify no of features to be considered out of 4 features."
      ]
    },
    {
      "cell_type": "code",
      "metadata": {
        "id": "szu2OSDpIi9S"
      },
      "source": [
        "data = load_iris()\n",
        "features = data.data.tolist()\n",
        "total_features = len(features[0])       # no_of_features = 4\n",
        "no_of_features_to_consider = total_features    # subtract 1 from total_features to consider only three features for training\n",
        "for i in range(total_features-no_of_features_to_consider):\n",
        "    for feature in features:\n",
        "        del feature[-1]\n",
        "targets = data.target.tolist()\n",
        "norm_features = normalize(features)"
      ],
      "execution_count": null,
      "outputs": []
    },
    {
      "cell_type": "code",
      "metadata": {
        "colab": {
          "base_uri": "https://localhost:8080/"
        },
        "id": "-l4WFIniJvbd",
        "outputId": "bcc593c0-f3dd-496c-8ac8-88f6b0840ce2"
      },
      "source": [
        "d = {x:targets.count(x) for x in set(targets)}          # counting of each target , all are in equal numbers \n",
        "d"
      ],
      "execution_count": null,
      "outputs": [
        {
          "output_type": "execute_result",
          "data": {
            "text/plain": [
              "{0: 50, 1: 50, 2: 50}"
            ]
          },
          "metadata": {},
          "execution_count": 147
        }
      ]
    },
    {
      "cell_type": "code",
      "metadata": {
        "id": "6xfltLo7N_ZP"
      },
      "source": [
        "X_train, X_test, y_train, y_test = train_data = train_test_split(norm_features[:100],targets[:100],test_size=0.3,stratify=targets[:100])   # split the data into train and test"
      ],
      "execution_count": null,
      "outputs": []
    },
    {
      "cell_type": "markdown",
      "metadata": {
        "id": "6zIxjhJVjtgI"
      },
      "source": [
        "#Training\n",
        "**Do not forget to pass the activation function argument** ----- Task1"
      ]
    },
    {
      "cell_type": "code",
      "metadata": {
        "id": "r2dEPDj1KPAS"
      },
      "source": [
        "p = Perceptron(len(features[0])+1,'tanh')   # two arguments needed 1) No of inputs 2) Activation function (['step','sigmoid','tanh'])"
      ],
      "execution_count": null,
      "outputs": []
    },
    {
      "cell_type": "code",
      "metadata": {
        "id": "ERA3780VNsVo"
      },
      "source": [
        "epoch = 0\n",
        "errors =[]\n",
        "total_epochs = 200\n",
        "while(epoch < total_epochs):\n",
        "\n",
        "    error = 0\n",
        "    \n",
        "    for i in range(len(X_train)):\n",
        "        output = p.result(X_train[i])\n",
        "                          \n",
        "        iter_error = y_train[i]-output\n",
        "\n",
        "        error += iter_error\n",
        "\n",
        "        p.weight_adjustument(X_train[i],iter_error)\n",
        "\n",
        "    mse = float((error**2)/2)\n",
        "    errors.append(abs(error))\n",
        "    \n",
        "\n",
        "    epoch += 1\n",
        "\n",
        "    if epoch % 10 == 0:\n",
        "        #print(\"The MSE of %d epoch is %.1f\"%(epoch,mse))\n",
        "        #print(\"The MSE of %d epoch is %.1f\"%(epoch,error))\n",
        "        pass\n",
        "        if epoch % 1000 ==0:\n",
        "            #print(\"0 : %.1f     1 : %.1f    2 : %.1f    3 : %.1f\"%(p.w[0],p.w[1],p.w[2],p.w[3]))\n",
        "            pass"
      ],
      "execution_count": null,
      "outputs": []
    },
    {
      "cell_type": "code",
      "metadata": {
        "colab": {
          "base_uri": "https://localhost:8080/",
          "height": 295
        },
        "id": "K8VTzOXKc8SW",
        "outputId": "f210bca3-5adc-41c5-f055-471bdc930071"
      },
      "source": [
        "plt.plot(list(range(1,total_epochs+1)),errors,'r')\n",
        "plt.xlabel('Epoch')\n",
        "plt.ylabel('Absolute Error')\n",
        "plt.title(\"Training Error vs Epoch\")\n",
        "plt.savefig('train_error_tanh.png')"
      ],
      "execution_count": null,
      "outputs": [
        {
          "output_type": "display_data",
          "data": {
            "image/png": "[encoded data removed]",
            "text/plain": [
              "<Figure size 432x288 with 1 Axes>"
            ]
          },
          "metadata": {
            "needs_background": "light"
          }
        }
      ]
    },
    {
      "cell_type": "code",
      "metadata": {
        "colab": {
          "base_uri": "https://localhost:8080/"
        },
        "id": "BpruwfRmU3hO",
        "outputId": "7820cb1f-11e8-4b76-f17a-16dbc290f063"
      },
      "source": [
        "preds =[p.recall(val) for val in X_test]\n",
        "print(\"True Value  | Pred Value\")\n",
        "errors = 0\n",
        "for true,pred in zip(y_test,preds):\n",
        "    print(\"%d           |      %d\"%(true,pred))\n",
        "    if true != pred:\n",
        "        errors += 1\n",
        "\n",
        "print(\"Accuracy : \",(1-errors/len(y_test))*100)"
      ],
      "execution_count": null,
      "outputs": [
        {
          "output_type": "stream",
          "name": "stdout",
          "text": [
            "True Value  | Pred Value\n",
            "1           |      0\n",
            "1           |      0\n",
            "1           |      0\n",
            "0           |      0\n",
            "0           |      0\n",
            "0           |      0\n",
            "1           |      0\n",
            "1           |      0\n",
            "0           |      0\n",
            "1           |      0\n",
            "0           |      0\n",
            "0           |      0\n",
            "0           |      0\n",
            "1           |      0\n",
            "0           |      0\n",
            "0           |      0\n",
            "1           |      0\n",
            "1           |      0\n",
            "1           |      0\n",
            "1           |      0\n",
            "0           |      0\n",
            "0           |      0\n",
            "0           |      0\n",
            "0           |      0\n",
            "0           |      0\n",
            "1           |      0\n",
            "1           |      0\n",
            "1           |      0\n",
            "0           |      0\n",
            "1           |      0\n",
            "Accuracy :  50.0\n"
          ]
        }
      ]
    },
    {
      "cell_type": "code",
      "metadata": {
        "id": "ZV8CWKhnXk_e"
      },
      "source": [
        ""
      ],
      "execution_count": null,
      "outputs": []
    }
  ]
}