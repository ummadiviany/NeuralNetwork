{
 "cells": [
  {
   "cell_type": "markdown",
   "metadata": {},
   "source": [
    "# AutoEncoder"
   ]
  },
  {
   "cell_type": "markdown",
   "metadata": {},
   "source": [
    "## Importing necessary libraries"
   ]
  },
  {
   "cell_type": "code",
   "execution_count": 1,
   "metadata": {},
   "outputs": [],
   "source": [
    "import torch\n",
    "import torch.nn as nn\n",
    "import torchvision\n",
    "from torchvision import datasets, transforms\n",
    "import torch.optim as optim\n",
    "from torch.utils.data import DataLoader\n",
    "from torchvision.utils import make_grid\n",
    "\n",
    "import numpy as np\n",
    "import matplotlib.pyplot as plt"
   ]
  },
  {
   "cell_type": "markdown",
   "metadata": {},
   "source": [
    "## Seeding for reproducibility"
   ]
  },
  {
   "cell_type": "code",
   "execution_count": 38,
   "metadata": {},
   "outputs": [
    {
     "data": {
      "text/plain": [
       "<torch._C.Generator at 0x7fa327587210>"
      ]
     },
     "execution_count": 38,
     "metadata": {},
     "output_type": "execute_result"
    }
   ],
   "source": [
    "np.random.seed(421)\n",
    "torch.random.manual_seed(421)"
   ]
  },
  {
   "cell_type": "markdown",
   "metadata": {},
   "source": [
    "## Dataset Loading"
   ]
  },
  {
   "cell_type": "code",
   "execution_count": 83,
   "metadata": {},
   "outputs": [],
   "source": [
    "batch_size = 64\n",
    "data_transforms = transforms.Compose([transforms.ToTensor(),transforms.Normalize(0.5,0.5)])\n",
    "train_dataset = datasets.MNIST(root='MNIST_AE', download=True, train=True, transform=data_transforms)\n",
    "train_loader = DataLoader(train_dataset, batch_size=batch_size, shuffle=True,num_workers=2)\n",
    "test_dataset = datasets.MNIST(root='MNIST_AE', download=True, train=False, transform=data_transforms)\n",
    "test_loader = DataLoader(test_dataset, batch_size=8, shuffle=False,num_workers=2)"
   ]
  },
  {
   "cell_type": "markdown",
   "metadata": {},
   "source": [
    "## AutoEncoder Class"
   ]
  },
  {
   "cell_type": "code",
   "execution_count": 47,
   "metadata": {},
   "outputs": [],
   "source": [
    "class AE(nn.Module):\n",
    "    def __init__(self,in_features):\n",
    "        super().__init__()\n",
    "        \n",
    "        self.nn1 = nn.Linear(in_features,392)\n",
    "        self.nn2 = nn.Linear(392,196)\n",
    "        self.nn3 = nn.Linear(196,392)\n",
    "        self.nn4 = nn.Linear(392,in_features)\n",
    "\n",
    "        self.relu = nn.ReLU()\n",
    "        self.sigmoid = nn.Sigmoid()\n",
    "        self.tanh = nn.Tanh()\n",
    "        \n",
    "        \n",
    "\n",
    "    def forward(self,x):\n",
    "        x = self.relu(self.nn1(x))\n",
    "        x = self.sigmoid(self.nn2(x))\n",
    "        x = self.relu(self.nn3(x))\n",
    "        x = self.tanh(self.nn4(x))\n",
    "        return x"
   ]
  },
  {
   "cell_type": "markdown",
   "metadata": {},
   "source": [
    "## Hyperparameters"
   ]
  },
  {
   "cell_type": "code",
   "execution_count": 48,
   "metadata": {},
   "outputs": [
    {
     "name": "stdout",
     "output_type": "stream",
     "text": [
      "Device: cuda\n"
     ]
    }
   ],
   "source": [
    "#Config \n",
    "device = 'cuda' if torch.cuda.is_available() else 'cpu'\n",
    "print('Device:',device)\n",
    "device = torch.device(device)\n",
    "num_epoch = 5\n",
    "lr = 2e-4"
   ]
  },
  {
   "cell_type": "markdown",
   "metadata": {},
   "source": [
    "## Model instance"
   ]
  },
  {
   "cell_type": "code",
   "execution_count": 49,
   "metadata": {},
   "outputs": [],
   "source": [
    "images,labels=next(iter(train_loader))\n",
    "in_features = images.shape[2]*images.shape[3]\n",
    "model = AE(in_features=in_features).to(device)"
   ]
  },
  {
   "cell_type": "markdown",
   "metadata": {},
   "source": [
    "## Loss function and Optimizer"
   ]
  },
  {
   "cell_type": "code",
   "execution_count": 50,
   "metadata": {},
   "outputs": [],
   "source": [
    "#Loss and Optimizer setting\n",
    "criterion = nn.MSELoss()\n",
    "optimizer = optim.Adam(model.parameters(),lr=lr)\n"
   ]
  },
  {
   "cell_type": "markdown",
   "metadata": {},
   "source": [
    "## Training Loop"
   ]
  },
  {
   "cell_type": "code",
   "execution_count": 51,
   "metadata": {},
   "outputs": [
    {
     "name": "stdout",
     "output_type": "stream",
     "text": [
      "Epoch:[0/5], Reconstruction Loss:0.1677763103199666\n",
      "Epoch:[1/5], Reconstruction Loss:0.07148357914057749\n",
      "Epoch:[2/5], Reconstruction Loss:0.0533105459834721\n",
      "Epoch:[3/5], Reconstruction Loss:0.04407567515778643\n",
      "Epoch:[4/5], Reconstruction Loss:0.037815839945793406\n"
     ]
    }
   ],
   "source": [
    "#Training\n",
    "model.train()\n",
    "for epoch in range(num_epoch):\n",
    "    total_loss = 0\n",
    "    for (images,_) in train_loader:\n",
    "        images = images.to(device)\n",
    "        images = images.reshape(-1,in_features)\n",
    "        preds = model(images)\n",
    "        loss = criterion(preds, images)\n",
    "        \n",
    "        optimizer.zero_grad()\n",
    "        loss.backward()\n",
    "        optimizer.step()\n",
    "\n",
    "        total_loss += loss.item()\n",
    "    print(f\"Epoch:[{epoch}/{num_epoch}], Reconstruction Loss:{total_loss/len(train_loader)}\")"
   ]
  },
  {
   "cell_type": "markdown",
   "metadata": {},
   "source": [
    "## Helper functions- Plotting "
   ]
  },
  {
   "cell_type": "code",
   "execution_count": 52,
   "metadata": {},
   "outputs": [],
   "source": [
    "def plot_images(image_grid,title):\n",
    "    plt.figure(figsize=(8, 2))\n",
    "    plt.imshow(image_grid,cmap='gray')\n",
    "    plt.title(title)\n",
    "\n",
    "def reshape_images(images):\n",
    "    images = torch.stack([image.reshape(1,28,28) for image in images])\n",
    "    return torch.cat([tensor for tensor in images],dim=2)"
   ]
  },
  {
   "cell_type": "markdown",
   "metadata": {},
   "source": [
    "## Model Evaluation"
   ]
  },
  {
   "cell_type": "code",
   "execution_count": 53,
   "metadata": {},
   "outputs": [
    {
     "name": "stdout",
     "output_type": "stream",
     "text": [
      "Test 0\n"
     ]
    },
    {
     "data": {
      "image/png": "[encoded data removed]",
      "text/plain": [
       "<Figure size 576x144 with 1 Axes>"
      ]
     },
     "metadata": {
      "needs_background": "light"
     },
     "output_type": "display_data"
    },
    {
     "data": {
      "image/png": "[encoded data removed]",
      "text/plain": [
       "<Figure size 576x144 with 1 Axes>"
      ]
     },
     "metadata": {
      "needs_background": "light"
     },
     "output_type": "display_data"
    }
   ],
   "source": [
    "model.eval()\n",
    "for idx in range(1):\n",
    "    print(f\"Test {idx}\")\n",
    "    with torch.no_grad():\n",
    "        images,_ = next(iter(test_loader))\n",
    "        images = images.reshape(-1,in_features).to(device)\n",
    "        preds = model(images)\n",
    "\n",
    "        images = reshape_images(images)*0.5 + 0.5\n",
    "        preds = reshape_images(preds)*0.5 + 0.5\n",
    "\n",
    "        plot_images(preds[0].cpu(),'Reconstructed Images')\n",
    "        plot_images(images[0].cpu(),'Original Images')\n",
    "        "
   ]
  },
  {
   "cell_type": "code",
   "execution_count": 108,
   "metadata": {},
   "outputs": [],
   "source": [
    "activation = {}\n",
    "def get_activation(name):\n",
    "    def hook(model, input, output):\n",
    "        activation[name] = output.detach()\n",
    "    return hook"
   ]
  },
  {
   "cell_type": "code",
   "execution_count": 109,
   "metadata": {},
   "outputs": [
    {
     "name": "stdout",
     "output_type": "stream",
     "text": [
      "{}\n"
     ]
    }
   ],
   "source": [
    "model.nn3.register_forward_hook(get_activation('nn3'))\n",
    "print(activation)\n",
    "images,_ = next(iter(test_loader))\n",
    "images = images.reshape(-1,in_features).to(device)\n",
    "output = model(images)"
   ]
  },
  {
   "cell_type": "code",
   "execution_count": 110,
   "metadata": {},
   "outputs": [],
   "source": [
    "def plot_images_hook(image_grid,title):\n",
    "    plt.figure(figsize=(8, 2))\n",
    "    plt.imshow(image_grid,cmap='gray')\n",
    "    plt.title(f'Activations for Linear Layer {title}')\n",
    "\n",
    "def reshape_images_hook(images):\n",
    "    images = torch.stack([image.reshape(1,28,14) for image in images])\n",
    "    return torch.cat([tensor for tensor in images],dim=2)\n"
   ]
  },
  {
   "cell_type": "code",
   "execution_count": 111,
   "metadata": {},
   "outputs": [
    {
     "data": {
      "image/png": "[encoded data removed]",
      "text/plain": [
       "<Figure size 576x144 with 1 Axes>"
      ]
     },
     "metadata": {
      "needs_background": "light"
     },
     "output_type": "display_data"
    }
   ],
   "source": [
    "act = activation['nn3']\n",
    "act = reshape_images_hook(act)\n",
    "plot_images_hook(act[0].cpu(),'fc3')"
   ]
  },
  {
   "cell_type": "code",
   "execution_count": null,
   "metadata": {},
   "outputs": [],
   "source": []
  }
 ],
 "metadata": {
  "kernelspec": {
   "display_name": "Python 3",
   "language": "python",
   "name": "python3"
  },
  "language_info": {
   "codemirror_mode": {
    "name": "ipython",
    "version": 3
   },
   "file_extension": ".py",
   "mimetype": "text/x-python",
   "name": "python",
   "nbconvert_exporter": "python",
   "pygments_lexer": "ipython3",
   "version": "3.8.5"
  },
  "orig_nbformat": 4
 },
 "nbformat": 4,
 "nbformat_minor": 2
}
